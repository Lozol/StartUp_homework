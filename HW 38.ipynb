{
 "cells": [
  {
   "cell_type": "markdown",
   "id": "fcec7031",
   "metadata": {},
   "source": [
    "## Task 1"
   ]
  },
  {
   "cell_type": "markdown",
   "id": "4399385d",
   "metadata": {},
   "source": [
    "## Task 2"
   ]
  },
  {
   "cell_type": "markdown",
   "id": "10cbb6a6",
   "metadata": {},
   "source": [
    "## Task 3"
   ]
  },
  {
   "cell_type": "markdown",
   "id": "f35da43f",
   "metadata": {},
   "source": [
    " На основі файлу banking.csv , що міститься в репозиторії лекції, виконайте наступні дії\n",
    " 1.Сформуйте тестові та тренувальні датасети(розмір тестової  вибірки 0,3)"
   ]
  },
  {
   "cell_type": "markdown",
   "id": "55c5160d",
   "metadata": {},
   "source": [
    "Застосуйте логістичну регрессію для прогнозування цільової метрики у(ймовіірність того що клієнт відкриє вклад у банку)"
   ]
  },
  {
   "cell_type": "markdown",
   "id": "367e23ad",
   "metadata": {},
   "source": [
    "Оцініть модель за допомогою матриці похибок метрик precision, recall, F1-score. Побудуйте  AUC-ROC криву для моделі."
   ]
  },
  {
   "cell_type": "code",
   "execution_count": null,
   "id": "32fb8d93",
   "metadata": {},
   "outputs": [],
   "source": []
  }
 ],
 "metadata": {
  "kernelspec": {
   "display_name": "Python 3 (ipykernel)",
   "language": "python",
   "name": "python3"
  },
  "language_info": {
   "codemirror_mode": {
    "name": "ipython",
    "version": 3
   },
   "file_extension": ".py",
   "mimetype": "text/x-python",
   "name": "python",
   "nbconvert_exporter": "python",
   "pygments_lexer": "ipython3",
   "version": "3.9.13"
  }
 },
 "nbformat": 4,
 "nbformat_minor": 5
}
