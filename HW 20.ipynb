{
 "cells": [
  {
   "cell_type": "markdown",
   "id": "9c462b99",
   "metadata": {},
   "source": [
    "## Task 1"
   ]
  },
  {
   "cell_type": "markdown",
   "id": "b83fdb02",
   "metadata": {},
   "source": [
    "| year |rank | company |revenue|profit|\n",
    "| :---- | :---- | :---- | :---- | :---- |\n",
    "| 1955 | 229 | Norton |135.0|N.A.|\n",
    "| 1955 | 291 | Schlitz Brewing |100.0|N.A.|\n",
    "| 1955 | 295 | Pacific Vegetable Oil |97.9|N.A.|\n",
    "| 1955 | 297 | Liebmann Breweries |96.0|N.A.|\n",
    "| 1955 |353 | Minneapolis-Moline |77.4|N.A.|\n"
   ]
  },
  {
   "cell_type": "markdown",
   "id": "9b36eb1b",
   "metadata": {},
   "source": [
    "## Task 2"
   ]
  },
  {
   "cell_type": "markdown",
   "id": "6e858d8e",
   "metadata": {},
   "source": [
    "Додайте до робочого листа код домашнього завдання з лекції 13. За допомогою \"магічної\" команди %%timeit обчисліть час їх роботи."
   ]
  },
  {
   "cell_type": "markdown",
   "id": "2dc6fbcd",
   "metadata": {},
   "source": [
    "!pip install random-word"
   ]
  },
  {
   "cell_type": "code",
   "execution_count": 6,
   "id": "32c0d236",
   "metadata": {},
   "outputs": [],
   "source": [
    "random.seed(10)"
   ]
  },
  {
   "cell_type": "code",
   "execution_count": 7,
   "id": "95c4c43e",
   "metadata": {},
   "outputs": [],
   "source": [
    "\n",
    "import random\n",
    "from random_word import RandomWords\n",
    "import time\n",
    "\n",
    "int_list=[]\n",
    "float_list=[]\n",
    "str_list=[]\n",
    "\n",
    "w = RandomWords()\n",
    "\n",
    "for i in range(0,50):\n",
    "    int_list.append(random.randint(0,1000))\n",
    "    float_list.append(random.uniform(0.1,100.0))\n",
    "    str_list.append(w.get_random_word())\n",
    "\n",
    "def get_time_for_working_function(x,y):\n",
    "   start = time.time()\n",
    "   for i in range(y):\n",
    "        N = len(x)\n",
    "        for i in range(0, N-1):\n",
    "            for j in range(0, N-1-i):\n",
    "               if x[j] > x[j+1]:\n",
    "                   x[j], x[j+1] = x[j+1], x[j]\n",
    "        \n",
    "   end = (time.time() - start)/y\n",
    "   print(end)\n",
    "\n",
    "\n",
    "\n"
   ]
  },
  {
   "cell_type": "code",
   "execution_count": 17,
   "id": "ab49f65e",
   "metadata": {},
   "outputs": [
    {
     "name": "stdout",
     "output_type": "stream",
     "text": [
      "0.0002711780071258545\n"
     ]
    }
   ],
   "source": [
    "%timeit\n",
    "p = get_time_for_working_function(str_list,1000)        "
   ]
  },
  {
   "cell_type": "code",
   "execution_count": 18,
   "id": "6a48200a",
   "metadata": {},
   "outputs": [
    {
     "name": "stdout",
     "output_type": "stream",
     "text": [
      "0.0002431650161743164\n"
     ]
    }
   ],
   "source": [
    "%timeit\n",
    "p = get_time_for_working_function(float_list,1000)  "
   ]
  },
  {
   "cell_type": "code",
   "execution_count": 19,
   "id": "1cbe56b2",
   "metadata": {},
   "outputs": [
    {
     "name": "stdout",
     "output_type": "stream",
     "text": [
      "0.0002331547737121582\n"
     ]
    }
   ],
   "source": [
    "%timeit\n",
    "p = get_time_for_working_function( int_list,1000) "
   ]
  },
  {
   "cell_type": "code",
   "execution_count": null,
   "id": "a7db72a8",
   "metadata": {},
   "outputs": [],
   "source": []
  }
 ],
 "metadata": {
  "kernelspec": {
   "display_name": "Python 3 (ipykernel)",
   "language": "python",
   "name": "python3"
  },
  "language_info": {
   "codemirror_mode": {
    "name": "ipython",
    "version": 3
   },
   "file_extension": ".py",
   "mimetype": "text/x-python",
   "name": "python",
   "nbconvert_exporter": "python",
   "pygments_lexer": "ipython3",
   "version": "3.9.13"
  }
 },
 "nbformat": 4,
 "nbformat_minor": 5
}
