{
 "cells": [
  {
   "cell_type": "markdown",
   "id": "35dca851",
   "metadata": {},
   "source": [
    "## Task"
   ]
  },
  {
   "cell_type": "markdown",
   "id": "10f26d94",
   "metadata": {},
   "source": [
    "Використовуючи модель ARIMA і датасет Yearly sunspots data 1700-2008 побудуйте прогноз на 2009-2030 р.р."
   ]
  },
  {
   "cell_type": "code",
   "execution_count": 5,
   "id": "0c0ed243",
   "metadata": {},
   "outputs": [],
   "source": [
    "import statsmodels.api as sm\n",
    "df = sm.datasets.sunspots.load_pandas()"
   ]
  },
  {
   "cell_type": "code",
   "execution_count": 3,
   "id": "6c953dae",
   "metadata": {},
   "outputs": [
    {
     "name": "stdout",
     "output_type": "stream",
     "text": [
      "Defaulting to user installation because normal site-packages is not writeable\n",
      "Collecting statsmodels\n",
      "  Downloading statsmodels-0.14.0-cp39-cp39-win_amd64.whl (9.4 MB)\n",
      "                                              0.0/9.4 MB ? eta -:--:--\n",
      "                                              0.1/9.4 MB 3.2 MB/s eta 0:00:03\n",
      "                                              0.1/9.4 MB 1.8 MB/s eta 0:00:06\n",
      "     -                                        0.3/9.4 MB 2.2 MB/s eta 0:00:05\n",
      "     -                                        0.4/9.4 MB 2.8 MB/s eta 0:00:04\n",
      "     --                                       0.7/9.4 MB 3.5 MB/s eta 0:00:03\n",
      "     ----                                     1.0/9.4 MB 4.6 MB/s eta 0:00:02\n",
      "     ------                                   1.5/9.4 MB 5.5 MB/s eta 0:00:02\n",
      "     --------                                 2.0/9.4 MB 6.6 MB/s eta 0:00:02\n",
      "     ----------                               2.4/9.4 MB 6.9 MB/s eta 0:00:02\n",
      "     ----------                               2.6/9.4 MB 7.1 MB/s eta 0:00:01\n",
      "     ----------                               2.6/9.4 MB 7.1 MB/s eta 0:00:01\n",
      "     ----------                               2.6/9.4 MB 7.1 MB/s eta 0:00:01\n",
      "     ----------------                         3.9/9.4 MB 7.7 MB/s eta 0:00:01\n",
      "     ------------------                       4.3/9.4 MB 8.1 MB/s eta 0:00:01\n",
      "     --------------------                     4.8/9.4 MB 8.4 MB/s eta 0:00:01\n",
      "     ----------------------                   5.2/9.4 MB 8.5 MB/s eta 0:00:01\n",
      "     ------------------------                 5.6/9.4 MB 8.8 MB/s eta 0:00:01\n",
      "     -------------------------                6.1/9.4 MB 8.8 MB/s eta 0:00:01\n",
      "     ---------------------------              6.5/9.4 MB 9.1 MB/s eta 0:00:01\n",
      "     -----------------------------            7.0/9.4 MB 9.3 MB/s eta 0:00:01\n",
      "     -------------------------------          7.4/9.4 MB 9.3 MB/s eta 0:00:01\n",
      "     ---------------------------------        7.9/9.4 MB 9.5 MB/s eta 0:00:01\n",
      "     -----------------------------------      8.3/9.4 MB 9.5 MB/s eta 0:00:01\n",
      "     -------------------------------------    8.8/9.4 MB 9.7 MB/s eta 0:00:01\n",
      "     ---------------------------------------  9.2/9.4 MB 9.7 MB/s eta 0:00:01\n",
      "     ---------------------------------------  9.4/9.4 MB 9.8 MB/s eta 0:00:01\n",
      "     ---------------------------------------  9.4/9.4 MB 9.8 MB/s eta 0:00:01\n",
      "     ---------------------------------------- 9.4/9.4 MB 8.9 MB/s eta 0:00:00\n",
      "Requirement already satisfied: numpy>=1.18 in c:\\users\\hewllet\\appdata\\roaming\\python\\python39\\site-packages (from statsmodels) (1.24.3)\n",
      "Requirement already satisfied: scipy!=1.9.2,>=1.4 in c:\\users\\hewllet\\appdata\\roaming\\python\\python39\\site-packages (from statsmodels) (1.10.1)\n",
      "Requirement already satisfied: pandas>=1.0 in c:\\users\\hewllet\\appdata\\roaming\\python\\python39\\site-packages (from statsmodels) (2.0.1)\n",
      "Collecting patsy>=0.5.2 (from statsmodels)\n",
      "  Downloading patsy-0.5.3-py2.py3-none-any.whl (233 kB)\n",
      "                                              0.0/233.8 kB ? eta -:--:--\n",
      "     -----------------------------------   225.3/233.8 kB 13.4 MB/s eta 0:00:01\n",
      "     -------------------------------------- 233.8/233.8 kB 4.8 MB/s eta 0:00:00\n",
      "Requirement already satisfied: packaging>=21.3 in c:\\users\\hewllet\\appdata\\roaming\\python\\python39\\site-packages (from statsmodels) (23.1)\n",
      "Requirement already satisfied: python-dateutil>=2.8.2 in c:\\users\\hewllet\\appdata\\roaming\\python\\python39\\site-packages (from pandas>=1.0->statsmodels) (2.8.2)\n",
      "Requirement already satisfied: pytz>=2020.1 in c:\\users\\hewllet\\appdata\\roaming\\python\\python39\\site-packages (from pandas>=1.0->statsmodels) (2023.3)\n",
      "Requirement already satisfied: tzdata>=2022.1 in c:\\users\\hewllet\\appdata\\roaming\\python\\python39\\site-packages (from pandas>=1.0->statsmodels) (2023.3)\n",
      "Requirement already satisfied: six in c:\\users\\hewllet\\appdata\\roaming\\python\\python39\\site-packages (from patsy>=0.5.2->statsmodels) (1.16.0)\n",
      "Installing collected packages: patsy, statsmodels\n",
      "Successfully installed patsy-0.5.3 statsmodels-0.14.0\n"
     ]
    }
   ],
   "source": [
    "!pip install statsmodels"
   ]
  },
  {
   "cell_type": "code",
   "execution_count": 14,
   "id": "c5e41fc6",
   "metadata": {},
   "outputs": [],
   "source": [
    "import numpy as np\n"
   ]
  },
  {
   "cell_type": "code",
   "execution_count": 16,
   "id": "bb3ec9bd",
   "metadata": {},
   "outputs": [
    {
     "ename": "AttributeError",
     "evalue": "'Dataset' object has no attribute 'summary'",
     "output_type": "error",
     "traceback": [
      "\u001b[1;31m---------------------------------------------------------------------------\u001b[0m",
      "\u001b[1;31mAttributeError\u001b[0m                            Traceback (most recent call last)",
      "Cell \u001b[1;32mIn[16], line 1\u001b[0m\n\u001b[1;32m----> 1\u001b[0m \u001b[38;5;28mprint\u001b[39m(\u001b[43mdf\u001b[49m\u001b[38;5;241;43m.\u001b[39;49m\u001b[43msummary\u001b[49m())\n",
      "\u001b[1;31mAttributeError\u001b[0m: 'Dataset' object has no attribute 'summary'"
     ]
    }
   ],
   "source": [
    "print(df.summary())"
   ]
  },
  {
   "cell_type": "code",
   "execution_count": 17,
   "id": "c9d907d2",
   "metadata": {},
   "outputs": [
    {
     "ename": "AttributeError",
     "evalue": "'Dataset' object has no attribute 'head'",
     "output_type": "error",
     "traceback": [
      "\u001b[1;31m---------------------------------------------------------------------------\u001b[0m",
      "\u001b[1;31mAttributeError\u001b[0m                            Traceback (most recent call last)",
      "Cell \u001b[1;32mIn[17], line 1\u001b[0m\n\u001b[1;32m----> 1\u001b[0m \u001b[43mdf\u001b[49m\u001b[38;5;241;43m.\u001b[39;49m\u001b[43mhead\u001b[49m()\n",
      "\u001b[1;31mAttributeError\u001b[0m: 'Dataset' object has no attribute 'head'"
     ]
    }
   ],
   "source": [
    "df.head()"
   ]
  },
  {
   "cell_type": "code",
   "execution_count": null,
   "id": "b8bfb424",
   "metadata": {},
   "outputs": [],
   "source": []
  }
 ],
 "metadata": {
  "kernelspec": {
   "display_name": "Python 3 (ipykernel)",
   "language": "python",
   "name": "python3"
  },
  "language_info": {
   "codemirror_mode": {
    "name": "ipython",
    "version": 3
   },
   "file_extension": ".py",
   "mimetype": "text/x-python",
   "name": "python",
   "nbconvert_exporter": "python",
   "pygments_lexer": "ipython3",
   "version": "3.9.12"
  }
 },
 "nbformat": 4,
 "nbformat_minor": 5
}
