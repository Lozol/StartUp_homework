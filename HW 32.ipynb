{
 "cells": [
  {
   "cell_type": "markdown",
   "id": "97e711df",
   "metadata": {},
   "source": [
    "## Task 1"
   ]
  },
  {
   "cell_type": "markdown",
   "id": "af7649e9",
   "metadata": {},
   "source": [
    "Створіть дата фрейм розміром 15х5, що містить наступні дані:\n",
    "1. Ім'я та прізвище студента;\n",
    "2. Середній бал;\n",
    "3. Оцінка за поточний екзамен;\n",
    "4. Кількість спроб здачі поточного екзамену"
   ]
  },
  {
   "cell_type": "code",
   "execution_count": 2,
   "id": "3a752ce3",
   "metadata": {},
   "outputs": [],
   "source": [
    "import pandas as pd"
   ]
  },
  {
   "cell_type": "code",
   "execution_count": 3,
   "id": "aa535dee",
   "metadata": {},
   "outputs": [],
   "source": [
    "import numpy as np"
   ]
  },
  {
   "cell_type": "code",
   "execution_count": 12,
   "id": "b95bc57f",
   "metadata": {},
   "outputs": [],
   "source": [
    "list_for_db = [['Ольга','Браун',9.5, 12, 3],['Світлана','Кметь',6.6, 6, 2],['Марина','Єфтені',8.2, 10, 1],\n",
    "               ['Вадим','Залозний',11.6, 12, 2],\n",
    "               ['Олександр','Брем',7.4, 8, 2],['Віталій','Клочко',9.8, 9,1],\n",
    "               ['Петро','Малиновський',5.9, 6, 1],['Роман','Гагарін',7.7, 9, 4],['Денис','Поль',9.9, 12, 3],\n",
    "               ['Йопта','Круз',8.9, 8, 2],['Жорж','Скид',10.5, 12, 2],['Тетяна','Бобо',9.1, 11, 3],['Олена','Хруст',6.7, 10, 5],\n",
    "               ['Кирил','Кожумяка',9.3, 9, 4],['Тоня','Братиславська',7.5, 11, 6]]\n",
    "df = pd.DataFrame(list_for_db, columns=['Name','SName','GPA','CurentS','Attempts'])"
   ]
  },
  {
   "cell_type": "code",
   "execution_count": 13,
   "id": "dc83b13b",
   "metadata": {},
   "outputs": [
    {
     "data": {
      "text/html": [
       "<div>\n",
       "<style scoped>\n",
       "    .dataframe tbody tr th:only-of-type {\n",
       "        vertical-align: middle;\n",
       "    }\n",
       "\n",
       "    .dataframe tbody tr th {\n",
       "        vertical-align: top;\n",
       "    }\n",
       "\n",
       "    .dataframe thead th {\n",
       "        text-align: right;\n",
       "    }\n",
       "</style>\n",
       "<table border=\"1\" class=\"dataframe\">\n",
       "  <thead>\n",
       "    <tr style=\"text-align: right;\">\n",
       "      <th></th>\n",
       "      <th>Name</th>\n",
       "      <th>SName</th>\n",
       "      <th>GPA</th>\n",
       "      <th>CurentS</th>\n",
       "      <th>Attempts</th>\n",
       "    </tr>\n",
       "  </thead>\n",
       "  <tbody>\n",
       "    <tr>\n",
       "      <th>0</th>\n",
       "      <td>Ольга</td>\n",
       "      <td>Браун</td>\n",
       "      <td>9.5</td>\n",
       "      <td>12</td>\n",
       "      <td>3</td>\n",
       "    </tr>\n",
       "    <tr>\n",
       "      <th>1</th>\n",
       "      <td>Світлана</td>\n",
       "      <td>Кметь</td>\n",
       "      <td>6.6</td>\n",
       "      <td>6</td>\n",
       "      <td>2</td>\n",
       "    </tr>\n",
       "    <tr>\n",
       "      <th>2</th>\n",
       "      <td>Марина</td>\n",
       "      <td>Єфтені</td>\n",
       "      <td>8.2</td>\n",
       "      <td>10</td>\n",
       "      <td>1</td>\n",
       "    </tr>\n",
       "    <tr>\n",
       "      <th>3</th>\n",
       "      <td>Вадим</td>\n",
       "      <td>Залозний</td>\n",
       "      <td>11.6</td>\n",
       "      <td>12</td>\n",
       "      <td>2</td>\n",
       "    </tr>\n",
       "    <tr>\n",
       "      <th>4</th>\n",
       "      <td>Олександр</td>\n",
       "      <td>Брем</td>\n",
       "      <td>7.4</td>\n",
       "      <td>8</td>\n",
       "      <td>2</td>\n",
       "    </tr>\n",
       "    <tr>\n",
       "      <th>5</th>\n",
       "      <td>Віталій</td>\n",
       "      <td>Клочко</td>\n",
       "      <td>9.8</td>\n",
       "      <td>9</td>\n",
       "      <td>1</td>\n",
       "    </tr>\n",
       "    <tr>\n",
       "      <th>6</th>\n",
       "      <td>Петро</td>\n",
       "      <td>Малиновський</td>\n",
       "      <td>5.9</td>\n",
       "      <td>6</td>\n",
       "      <td>1</td>\n",
       "    </tr>\n",
       "    <tr>\n",
       "      <th>7</th>\n",
       "      <td>Роман</td>\n",
       "      <td>Гагарін</td>\n",
       "      <td>7.7</td>\n",
       "      <td>9</td>\n",
       "      <td>4</td>\n",
       "    </tr>\n",
       "    <tr>\n",
       "      <th>8</th>\n",
       "      <td>Денис</td>\n",
       "      <td>Поль</td>\n",
       "      <td>9.9</td>\n",
       "      <td>12</td>\n",
       "      <td>3</td>\n",
       "    </tr>\n",
       "    <tr>\n",
       "      <th>9</th>\n",
       "      <td>Йопта</td>\n",
       "      <td>Круз</td>\n",
       "      <td>8.9</td>\n",
       "      <td>8</td>\n",
       "      <td>2</td>\n",
       "    </tr>\n",
       "    <tr>\n",
       "      <th>10</th>\n",
       "      <td>Жорж</td>\n",
       "      <td>Скид</td>\n",
       "      <td>10.5</td>\n",
       "      <td>12</td>\n",
       "      <td>2</td>\n",
       "    </tr>\n",
       "    <tr>\n",
       "      <th>11</th>\n",
       "      <td>Тетяна</td>\n",
       "      <td>Бобо</td>\n",
       "      <td>9.1</td>\n",
       "      <td>11</td>\n",
       "      <td>3</td>\n",
       "    </tr>\n",
       "    <tr>\n",
       "      <th>12</th>\n",
       "      <td>Олена</td>\n",
       "      <td>Хруст</td>\n",
       "      <td>6.7</td>\n",
       "      <td>10</td>\n",
       "      <td>5</td>\n",
       "    </tr>\n",
       "    <tr>\n",
       "      <th>13</th>\n",
       "      <td>Кирил</td>\n",
       "      <td>Кожумяка</td>\n",
       "      <td>9.3</td>\n",
       "      <td>9</td>\n",
       "      <td>4</td>\n",
       "    </tr>\n",
       "    <tr>\n",
       "      <th>14</th>\n",
       "      <td>Тоня</td>\n",
       "      <td>Братиславська</td>\n",
       "      <td>7.5</td>\n",
       "      <td>11</td>\n",
       "      <td>6</td>\n",
       "    </tr>\n",
       "  </tbody>\n",
       "</table>\n",
       "</div>"
      ],
      "text/plain": [
       "         Name          SName   GPA  CurentS  Attempts\n",
       "0       Ольга          Браун   9.5       12         3\n",
       "1    Світлана          Кметь   6.6        6         2\n",
       "2      Марина         Єфтені   8.2       10         1\n",
       "3       Вадим       Залозний  11.6       12         2\n",
       "4   Олександр           Брем   7.4        8         2\n",
       "5     Віталій         Клочко   9.8        9         1\n",
       "6       Петро   Малиновський   5.9        6         1\n",
       "7       Роман        Гагарін   7.7        9         4\n",
       "8       Денис           Поль   9.9       12         3\n",
       "9       Йопта           Круз   8.9        8         2\n",
       "10       Жорж           Скид  10.5       12         2\n",
       "11     Тетяна           Бобо   9.1       11         3\n",
       "12      Олена          Хруст   6.7       10         5\n",
       "13      Кирил       Кожумяка   9.3        9         4\n",
       "14       Тоня  Братиславська   7.5       11         6"
      ]
     },
     "execution_count": 13,
     "metadata": {},
     "output_type": "execute_result"
    }
   ],
   "source": [
    "df"
   ]
  },
  {
   "cell_type": "code",
   "execution_count": 14,
   "id": "94532f47",
   "metadata": {},
   "outputs": [
    {
     "data": {
      "text/plain": [
       "75"
      ]
     },
     "execution_count": 14,
     "metadata": {},
     "output_type": "execute_result"
    }
   ],
   "source": [
    "df.size"
   ]
  },
  {
   "cell_type": "markdown",
   "id": "c192d6ce",
   "metadata": {},
   "source": [
    "## Task 2"
   ]
  },
  {
   "cell_type": "markdown",
   "id": "5a3214fc",
   "metadata": {},
   "source": [
    "Додайте до датафрейму стовпчик, що містить дані про допуск студента на наступний курс."
   ]
  },
  {
   "cell_type": "code",
   "execution_count": 15,
   "id": "19cc847e",
   "metadata": {},
   "outputs": [
    {
     "data": {
      "text/html": [
       "<div>\n",
       "<style scoped>\n",
       "    .dataframe tbody tr th:only-of-type {\n",
       "        vertical-align: middle;\n",
       "    }\n",
       "\n",
       "    .dataframe tbody tr th {\n",
       "        vertical-align: top;\n",
       "    }\n",
       "\n",
       "    .dataframe thead th {\n",
       "        text-align: right;\n",
       "    }\n",
       "</style>\n",
       "<table border=\"1\" class=\"dataframe\">\n",
       "  <thead>\n",
       "    <tr style=\"text-align: right;\">\n",
       "      <th></th>\n",
       "      <th>Name</th>\n",
       "      <th>SName</th>\n",
       "      <th>GPA</th>\n",
       "      <th>CurentS</th>\n",
       "      <th>Attempts</th>\n",
       "      <th>Allow</th>\n",
       "    </tr>\n",
       "  </thead>\n",
       "  <tbody>\n",
       "    <tr>\n",
       "      <th>0</th>\n",
       "      <td>Ольга</td>\n",
       "      <td>Браун</td>\n",
       "      <td>9.5</td>\n",
       "      <td>12</td>\n",
       "      <td>3</td>\n",
       "      <td>Y</td>\n",
       "    </tr>\n",
       "    <tr>\n",
       "      <th>1</th>\n",
       "      <td>Світлана</td>\n",
       "      <td>Кметь</td>\n",
       "      <td>6.6</td>\n",
       "      <td>6</td>\n",
       "      <td>2</td>\n",
       "      <td>N</td>\n",
       "    </tr>\n",
       "    <tr>\n",
       "      <th>2</th>\n",
       "      <td>Марина</td>\n",
       "      <td>Єфтені</td>\n",
       "      <td>8.2</td>\n",
       "      <td>10</td>\n",
       "      <td>1</td>\n",
       "      <td>Y</td>\n",
       "    </tr>\n",
       "    <tr>\n",
       "      <th>3</th>\n",
       "      <td>Вадим</td>\n",
       "      <td>Залозний</td>\n",
       "      <td>11.6</td>\n",
       "      <td>12</td>\n",
       "      <td>2</td>\n",
       "      <td>N</td>\n",
       "    </tr>\n",
       "    <tr>\n",
       "      <th>4</th>\n",
       "      <td>Олександр</td>\n",
       "      <td>Брем</td>\n",
       "      <td>7.4</td>\n",
       "      <td>8</td>\n",
       "      <td>2</td>\n",
       "      <td>N</td>\n",
       "    </tr>\n",
       "    <tr>\n",
       "      <th>5</th>\n",
       "      <td>Віталій</td>\n",
       "      <td>Клочко</td>\n",
       "      <td>9.8</td>\n",
       "      <td>9</td>\n",
       "      <td>1</td>\n",
       "      <td>N</td>\n",
       "    </tr>\n",
       "    <tr>\n",
       "      <th>6</th>\n",
       "      <td>Петро</td>\n",
       "      <td>Малиновський</td>\n",
       "      <td>5.9</td>\n",
       "      <td>6</td>\n",
       "      <td>1</td>\n",
       "      <td>Y</td>\n",
       "    </tr>\n",
       "    <tr>\n",
       "      <th>7</th>\n",
       "      <td>Роман</td>\n",
       "      <td>Гагарін</td>\n",
       "      <td>7.7</td>\n",
       "      <td>9</td>\n",
       "      <td>4</td>\n",
       "      <td>Y</td>\n",
       "    </tr>\n",
       "    <tr>\n",
       "      <th>8</th>\n",
       "      <td>Денис</td>\n",
       "      <td>Поль</td>\n",
       "      <td>9.9</td>\n",
       "      <td>12</td>\n",
       "      <td>3</td>\n",
       "      <td>N</td>\n",
       "    </tr>\n",
       "    <tr>\n",
       "      <th>9</th>\n",
       "      <td>Йопта</td>\n",
       "      <td>Круз</td>\n",
       "      <td>8.9</td>\n",
       "      <td>8</td>\n",
       "      <td>2</td>\n",
       "      <td>N</td>\n",
       "    </tr>\n",
       "    <tr>\n",
       "      <th>10</th>\n",
       "      <td>Жорж</td>\n",
       "      <td>Скид</td>\n",
       "      <td>10.5</td>\n",
       "      <td>12</td>\n",
       "      <td>2</td>\n",
       "      <td>N</td>\n",
       "    </tr>\n",
       "    <tr>\n",
       "      <th>11</th>\n",
       "      <td>Тетяна</td>\n",
       "      <td>Бобо</td>\n",
       "      <td>9.1</td>\n",
       "      <td>11</td>\n",
       "      <td>3</td>\n",
       "      <td>Y</td>\n",
       "    </tr>\n",
       "    <tr>\n",
       "      <th>12</th>\n",
       "      <td>Олена</td>\n",
       "      <td>Хруст</td>\n",
       "      <td>6.7</td>\n",
       "      <td>10</td>\n",
       "      <td>5</td>\n",
       "      <td>N</td>\n",
       "    </tr>\n",
       "    <tr>\n",
       "      <th>13</th>\n",
       "      <td>Кирил</td>\n",
       "      <td>Кожумяка</td>\n",
       "      <td>9.3</td>\n",
       "      <td>9</td>\n",
       "      <td>4</td>\n",
       "      <td>N</td>\n",
       "    </tr>\n",
       "    <tr>\n",
       "      <th>14</th>\n",
       "      <td>Тоня</td>\n",
       "      <td>Братиславська</td>\n",
       "      <td>7.5</td>\n",
       "      <td>11</td>\n",
       "      <td>6</td>\n",
       "      <td>Y</td>\n",
       "    </tr>\n",
       "  </tbody>\n",
       "</table>\n",
       "</div>"
      ],
      "text/plain": [
       "         Name          SName   GPA  CurentS  Attempts Allow\n",
       "0       Ольга          Браун   9.5       12         3     Y\n",
       "1    Світлана          Кметь   6.6        6         2     N\n",
       "2      Марина         Єфтені   8.2       10         1     Y\n",
       "3       Вадим       Залозний  11.6       12         2     N\n",
       "4   Олександр           Брем   7.4        8         2     N\n",
       "5     Віталій         Клочко   9.8        9         1     N\n",
       "6       Петро   Малиновський   5.9        6         1     Y\n",
       "7       Роман        Гагарін   7.7        9         4     Y\n",
       "8       Денис           Поль   9.9       12         3     N\n",
       "9       Йопта           Круз   8.9        8         2     N\n",
       "10       Жорж           Скид  10.5       12         2     N\n",
       "11     Тетяна           Бобо   9.1       11         3     Y\n",
       "12      Олена          Хруст   6.7       10         5     N\n",
       "13      Кирил       Кожумяка   9.3        9         4     N\n",
       "14       Тоня  Братиславська   7.5       11         6     Y"
      ]
     },
     "execution_count": 15,
     "metadata": {},
     "output_type": "execute_result"
    }
   ],
   "source": [
    "df['Allow'] = np.array(['Y','N','Y','N','N','N','Y','Y','N','N','N','Y','N','N','Y',])\n",
    "df"
   ]
  },
  {
   "cell_type": "markdown",
   "id": "24027cfc",
   "metadata": {},
   "source": [
    "## Task 3"
   ]
  },
  {
   "cell_type": "markdown",
   "id": "1cd94af0",
   "metadata": {},
   "source": [
    "Виведіть мінімальній, максимальний та середній та медіанний показники середнього балу студентів"
   ]
  },
  {
   "cell_type": "code",
   "execution_count": 26,
   "id": "0d3f5272",
   "metadata": {},
   "outputs": [
    {
     "name": "stdout",
     "output_type": "stream",
     "text": [
      "мінімальній показник:  5.9\n",
      "максимальний показник:  11.6\n",
      "середній показник:  8.57\n",
      "медіанний показник:  8.9\n"
     ]
    }
   ],
   "source": [
    "print('мінімальній показник: ',df['GPA'].min())\n",
    "print('максимальний показник: ',df['GPA'].max())\n",
    "print('середній показник: ',round(df['GPA'].mean(),2))\n",
    "print('медіанний показник: ',df['GPA'].median())"
   ]
  },
  {
   "cell_type": "markdown",
   "id": "145e3a19",
   "metadata": {},
   "source": [
    "## Task 4"
   ]
  },
  {
   "cell_type": "markdown",
   "id": "594a2243",
   "metadata": {},
   "source": [
    "Виведіть кількість студентів, що здали поточний екзамен з першого разу."
   ]
  },
  {
   "cell_type": "code",
   "execution_count": 32,
   "id": "9eddaf9b",
   "metadata": {},
   "outputs": [
    {
     "name": "stdout",
     "output_type": "stream",
     "text": [
      "кількість студентів, що здали поточний екзамен з першого разу:  3\n"
     ]
    }
   ],
   "source": [
    "print('кількість студентів, що здали поточний екзамен з першого разу: ',len(df[df['Attempts']==1]))\n"
   ]
  },
  {
   "cell_type": "markdown",
   "id": "1707056d",
   "metadata": {},
   "source": [
    "## Task 5"
   ]
  },
  {
   "cell_type": "markdown",
   "id": "6d5d8063",
   "metadata": {},
   "source": [
    "Збережітьбудь-які данні з датафрейму у вигляді серії"
   ]
  },
  {
   "cell_type": "code",
   "execution_count": 17,
   "id": "f3abfe54",
   "metadata": {},
   "outputs": [
    {
     "data": {
      "text/plain": [
       "0         Ольга\n",
       "1      Світлана\n",
       "2        Марина\n",
       "3         Вадим\n",
       "4     Олександр\n",
       "5       Віталій\n",
       "6         Петро\n",
       "7         Роман\n",
       "8         Денис\n",
       "9         Йопта\n",
       "10         Жорж\n",
       "11       Тетяна\n",
       "12        Олена\n",
       "13        Кирил\n",
       "14         Тоня\n",
       "Name: Name, dtype: object"
      ]
     },
     "execution_count": 17,
     "metadata": {},
     "output_type": "execute_result"
    }
   ],
   "source": [
    "name = df.loc[:,'Name']\n",
    "name"
   ]
  }
 ],
 "metadata": {
  "kernelspec": {
   "display_name": "Python 3 (ipykernel)",
   "language": "python",
   "name": "python3"
  },
  "language_info": {
   "codemirror_mode": {
    "name": "ipython",
    "version": 3
   },
   "file_extension": ".py",
   "mimetype": "text/x-python",
   "name": "python",
   "nbconvert_exporter": "python",
   "pygments_lexer": "ipython3",
   "version": "3.9.13"
  }
 },
 "nbformat": 4,
 "nbformat_minor": 5
}
