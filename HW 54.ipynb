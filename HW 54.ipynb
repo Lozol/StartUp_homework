{
 "cells": [
  {
   "cell_type": "code",
   "execution_count": 4,
   "id": "e4d877a5",
   "metadata": {},
   "outputs": [],
   "source": [
    " # Бібліотеки для візуалізації\n",
    "import numpy as np\n",
    "import matplotlib.pyplot as plt\n",
    "%matplotlib inline\n",
    "from PIL import Image\n",
    "import scipy\n",
    " \n",
    "# Бібліотеки Pytorch\n",
    "import torch \n",
    "import torchvision # тут лежить mnist, cifar та багато інших датасетів та трансформацій для картинок\n",
    "import torch.nn as nn # тут лежать усі шари\n",
    "import torch.utils.data as data # робота із завантажувачем даних\n",
    "import torchvision.transforms as transforms\n",
    "import torchvision.datasets as dsets #робота з класом Датасет\n",
    "from torch.autograd import Variable # для автоматичного диференціатора\n",
    " \n",
    "\n",
    "from torch.utils.tensorboard import SummaryWriter \n",
    "import datetime,os\n",
    "import time\n",
    " \n",
    "import seaborn as sns\n",
    "sns.set_style('darkgrid')\n"
   ]
  },
  {
   "cell_type": "code",
   "execution_count": 3,
   "id": "649926ea",
   "metadata": {},
   "outputs": [
    {
     "name": "stdout",
     "output_type": "stream",
     "text": [
      "Defaulting to user installation because normal site-packages is not writeable\n",
      "Collecting tensorboard\n",
      "  Downloading tensorboard-2.13.0-py3-none-any.whl (5.6 MB)\n",
      "                                              0.0/5.6 MB ? eta -:--:--\n",
      "                                              0.1/5.6 MB 3.2 MB/s eta 0:00:02\n",
      "     -                                        0.2/5.6 MB 2.4 MB/s eta 0:00:03\n",
      "     --                                       0.3/5.6 MB 2.7 MB/s eta 0:00:02\n",
      "     ----                                     0.6/5.6 MB 3.7 MB/s eta 0:00:02\n",
      "     ------                                   0.8/5.6 MB 4.5 MB/s eta 0:00:02\n",
      "     ---------                                1.3/5.6 MB 5.4 MB/s eta 0:00:01\n",
      "     ------------                             1.8/5.6 MB 6.6 MB/s eta 0:00:01\n",
      "     ----------------                         2.3/5.6 MB 7.2 MB/s eta 0:00:01\n",
      "     -------------------                      2.7/5.6 MB 7.6 MB/s eta 0:00:01\n",
      "     -----------------------                  3.2/5.6 MB 8.2 MB/s eta 0:00:01\n",
      "     -----------------------                  3.2/5.6 MB 8.0 MB/s eta 0:00:01\n",
      "     -----------------------                  3.2/5.6 MB 8.0 MB/s eta 0:00:01\n",
      "     ----------------------------             4.0/5.6 MB 7.8 MB/s eta 0:00:01\n",
      "     ----------------------------------       4.8/5.6 MB 8.7 MB/s eta 0:00:01\n",
      "     -------------------------------------    5.2/5.6 MB 8.8 MB/s eta 0:00:01\n",
      "     ---------------------------------------  5.6/5.6 MB 8.9 MB/s eta 0:00:01\n",
      "     ---------------------------------------  5.6/5.6 MB 8.9 MB/s eta 0:00:01\n",
      "     ---------------------------------------- 5.6/5.6 MB 8.1 MB/s eta 0:00:00\n",
      "Collecting absl-py>=0.4 (from tensorboard)\n",
      "  Downloading absl_py-1.4.0-py3-none-any.whl (126 kB)\n",
      "                                              0.0/126.5 kB ? eta -:--:--\n",
      "     -------------------------------------- 126.5/126.5 kB 7.8 MB/s eta 0:00:00\n",
      "Collecting grpcio>=1.48.2 (from tensorboard)\n",
      "  Downloading grpcio-1.54.2-cp39-cp39-win_amd64.whl (4.1 MB)\n",
      "                                              0.0/4.1 MB ? eta -:--:--\n",
      "     ----                                     0.5/4.1 MB 15.5 MB/s eta 0:00:01\n",
      "     ---------                                1.0/4.1 MB 15.7 MB/s eta 0:00:01\n",
      "     -------------                            1.4/4.1 MB 13.0 MB/s eta 0:00:01\n",
      "     ------------------                       1.9/4.1 MB 13.2 MB/s eta 0:00:01\n",
      "     ----------------------                   2.3/4.1 MB 12.3 MB/s eta 0:00:01\n",
      "     --------------------------               2.8/4.1 MB 12.5 MB/s eta 0:00:01\n",
      "     -------------------------------          3.2/4.1 MB 12.8 MB/s eta 0:00:01\n",
      "     -----------------------------------      3.6/4.1 MB 12.2 MB/s eta 0:00:01\n",
      "     ---------------------------------------  4.1/4.1 MB 12.5 MB/s eta 0:00:01\n",
      "     ---------------------------------------  4.1/4.1 MB 12.5 MB/s eta 0:00:01\n",
      "     ---------------------------------------  4.1/4.1 MB 12.5 MB/s eta 0:00:01\n",
      "     ---------------------------------------- 4.1/4.1 MB 10.1 MB/s eta 0:00:00\n",
      "Collecting google-auth<3,>=1.6.3 (from tensorboard)\n",
      "  Downloading google_auth-2.19.1-py2.py3-none-any.whl (181 kB)\n",
      "                                              0.0/181.3 kB ? eta -:--:--\n",
      "     ------------------------------------- 181.3/181.3 kB 11.4 MB/s eta 0:00:00\n",
      "Collecting google-auth-oauthlib<1.1,>=0.5 (from tensorboard)\n",
      "  Downloading google_auth_oauthlib-1.0.0-py2.py3-none-any.whl (18 kB)\n",
      "Collecting markdown>=2.6.8 (from tensorboard)\n",
      "  Downloading Markdown-3.4.3-py3-none-any.whl (93 kB)\n",
      "                                              0.0/93.9 kB ? eta -:--:--\n",
      "     ---------------------------------------- 93.9/93.9 kB 2.6 MB/s eta 0:00:00\n",
      "Requirement already satisfied: numpy>=1.12.0 in c:\\users\\hewllet\\appdata\\roaming\\python\\python39\\site-packages (from tensorboard) (1.24.3)\n",
      "Collecting protobuf>=3.19.6 (from tensorboard)\n",
      "  Downloading protobuf-4.23.2-cp39-cp39-win_amd64.whl (422 kB)\n",
      "                                              0.0/422.5 kB ? eta -:--:--\n",
      "     ------------------------------------  419.8/422.5 kB 12.8 MB/s eta 0:00:01\n",
      "     -------------------------------------- 422.5/422.5 kB 8.8 MB/s eta 0:00:00\n",
      "Requirement already satisfied: requests<3,>=2.21.0 in c:\\users\\hewllet\\appdata\\roaming\\python\\python39\\site-packages (from tensorboard) (2.30.0)\n",
      "Requirement already satisfied: setuptools>=41.0.0 in c:\\users\\hewllet\\appdata\\roaming\\python\\python39\\site-packages (from tensorboard) (67.7.2)\n",
      "Collecting tensorboard-data-server<0.8.0,>=0.7.0 (from tensorboard)\n",
      "  Downloading tensorboard_data_server-0.7.0-py3-none-any.whl (2.4 kB)\n",
      "Collecting werkzeug>=1.0.1 (from tensorboard)\n",
      "  Downloading Werkzeug-2.3.6-py3-none-any.whl (242 kB)\n",
      "                                              0.0/242.5 kB ? eta -:--:--\n",
      "     -------------------------------------- 242.5/242.5 kB 7.5 MB/s eta 0:00:00\n",
      "Collecting wheel>=0.26 (from tensorboard)\n",
      "  Using cached wheel-0.40.0-py3-none-any.whl (64 kB)\n",
      "Collecting cachetools<6.0,>=2.0.0 (from google-auth<3,>=1.6.3->tensorboard)\n",
      "  Downloading cachetools-5.3.1-py3-none-any.whl (9.3 kB)\n",
      "Collecting pyasn1-modules>=0.2.1 (from google-auth<3,>=1.6.3->tensorboard)\n",
      "  Downloading pyasn1_modules-0.3.0-py2.py3-none-any.whl (181 kB)\n",
      "                                              0.0/181.3 kB ? eta -:--:--\n",
      "     -----------------------------------   174.1/181.3 kB 10.9 MB/s eta 0:00:01\n",
      "     -------------------------------------- 181.3/181.3 kB 3.6 MB/s eta 0:00:00\n",
      "Collecting rsa<5,>=3.1.4 (from google-auth<3,>=1.6.3->tensorboard)\n",
      "  Downloading rsa-4.9-py3-none-any.whl (34 kB)\n",
      "Requirement already satisfied: six>=1.9.0 in c:\\users\\hewllet\\appdata\\roaming\\python\\python39\\site-packages (from google-auth<3,>=1.6.3->tensorboard) (1.16.0)\n",
      "Collecting urllib3<2.0 (from google-auth<3,>=1.6.3->tensorboard)\n",
      "  Downloading urllib3-1.26.16-py2.py3-none-any.whl (143 kB)\n",
      "                                              0.0/143.1 kB ? eta -:--:--\n",
      "     -------------------------------------- 143.1/143.1 kB 8.3 MB/s eta 0:00:00\n",
      "Collecting requests-oauthlib>=0.7.0 (from google-auth-oauthlib<1.1,>=0.5->tensorboard)\n",
      "  Downloading requests_oauthlib-1.3.1-py2.py3-none-any.whl (23 kB)\n",
      "Requirement already satisfied: importlib-metadata>=4.4 in c:\\users\\hewllet\\appdata\\roaming\\python\\python39\\site-packages (from markdown>=2.6.8->tensorboard) (6.6.0)\n",
      "Requirement already satisfied: charset-normalizer<4,>=2 in c:\\users\\hewllet\\appdata\\roaming\\python\\python39\\site-packages (from requests<3,>=2.21.0->tensorboard) (3.1.0)\n",
      "Requirement already satisfied: idna<4,>=2.5 in c:\\users\\hewllet\\appdata\\roaming\\python\\python39\\site-packages (from requests<3,>=2.21.0->tensorboard) (3.4)\n",
      "Requirement already satisfied: certifi>=2017.4.17 in c:\\users\\hewllet\\appdata\\roaming\\python\\python39\\site-packages (from requests<3,>=2.21.0->tensorboard) (2023.5.7)\n",
      "Requirement already satisfied: MarkupSafe>=2.1.1 in c:\\users\\hewllet\\appdata\\roaming\\python\\python39\\site-packages (from werkzeug>=1.0.1->tensorboard) (2.1.2)\n",
      "Requirement already satisfied: zipp>=0.5 in c:\\users\\hewllet\\appdata\\roaming\\python\\python39\\site-packages (from importlib-metadata>=4.4->markdown>=2.6.8->tensorboard) (3.15.0)\n",
      "Collecting pyasn1<0.6.0,>=0.4.6 (from pyasn1-modules>=0.2.1->google-auth<3,>=1.6.3->tensorboard)\n",
      "  Downloading pyasn1-0.5.0-py2.py3-none-any.whl (83 kB)\n",
      "                                              0.0/83.9 kB ? eta -:--:--\n",
      "     ---------------------------------------- 83.9/83.9 kB 2.4 MB/s eta 0:00:00\n",
      "Collecting oauthlib>=3.0.0 (from requests-oauthlib>=0.7.0->google-auth-oauthlib<1.1,>=0.5->tensorboard)\n",
      "  Downloading oauthlib-3.2.2-py3-none-any.whl (151 kB)\n",
      "                                              0.0/151.7 kB ? eta -:--:--\n",
      "     -------------------------------------    143.4/151.7 kB ? eta -:--:--\n",
      "     -------------------------------------- 151.7/151.7 kB 4.6 MB/s eta 0:00:00\n",
      "Installing collected packages: wheel, werkzeug, urllib3, tensorboard-data-server, pyasn1, protobuf, oauthlib, grpcio, cachetools, absl-py, rsa, pyasn1-modules, markdown, requests-oauthlib, google-auth, google-auth-oauthlib, tensorboard\n",
      "  Attempting uninstall: urllib3\n",
      "    Found existing installation: urllib3 2.0.2\n",
      "    Uninstalling urllib3-2.0.2:\n",
      "      Successfully uninstalled urllib3-2.0.2\n",
      "Successfully installed absl-py-1.4.0 cachetools-5.3.1 google-auth-2.19.1 google-auth-oauthlib-1.0.0 grpcio-1.54.2 markdown-3.4.3 oauthlib-3.2.2 protobuf-4.23.2 pyasn1-0.5.0 pyasn1-modules-0.3.0 requests-oauthlib-1.3.1 rsa-4.9 tensorboard-2.13.0 tensorboard-data-server-0.7.0 urllib3-1.26.16 werkzeug-2.3.6 wheel-0.40.0\n"
     ]
    }
   ],
   "source": [
    "!pip install tensorboard"
   ]
  },
  {
   "cell_type": "markdown",
   "id": "e198eabc",
   "metadata": {},
   "source": [
    "## Task 1"
   ]
  },
  {
   "cell_type": "code",
   "execution_count": 11,
   "id": "a27e9979",
   "metadata": {},
   "outputs": [],
   "source": [
    "inputSize = 784\n",
    "numClasses = 10\n",
    "numEpochs = 10\n",
    "learningRate = 0.001 \n",
    "hidden = 500"
   ]
  },
  {
   "cell_type": "code",
   "execution_count": 12,
   "id": "fac9ecd1",
   "metadata": {},
   "outputs": [],
   "source": [
    "# Завантажимо MNIST\n",
    "batchSize = 100\n",
    "\n",
    "\n",
    "trainDataset = dsets.MNIST(root='./data', \n",
    "                            train=True, \n",
    "                            transform=transforms.ToTensor(),\n",
    "                            download=True)\n",
    "а\n",
    "testDataset = dsets.MNIST(root='./data', \n",
    "                           train=False, \n",
    "                           transform=transforms.ToTensor())\n",
    "\n",
    "\n",
    "trainLoader = torch.utils.data.DataLoader(dataset=trainDataset, \n",
    "                                           batch_size=batchSize, \n",
    "                                           shuffle=True) \n",
    "\n",
    "testLoader = torch.utils.data.DataLoader(dataset=testDataset, \n",
    "                                          batch_size=batchSize, \n",
    "                                          shuffle=False)"
   ]
  },
  {
   "cell_type": "code",
   "execution_count": 13,
   "id": "7ce68f76",
   "metadata": {},
   "outputs": [],
   "source": [
    "dataIter = iter(trainLoader) \n",
    "trainX, trainY = next(dataIter) "
   ]
  },
  {
   "cell_type": "code",
   "execution_count": 14,
   "id": "f751ea7c",
   "metadata": {},
   "outputs": [
    {
     "data": {
      "text/plain": [
       "torch.Size([100, 1, 28, 28])"
      ]
     },
     "execution_count": 14,
     "metadata": {},
     "output_type": "execute_result"
    }
   ],
   "source": [
    "trainX.shape"
   ]
  },
  {
   "cell_type": "code",
   "execution_count": 15,
   "id": "3b8db94e",
   "metadata": {},
   "outputs": [
    {
     "data": {
      "image/png": "[encoded data removed]",
      "text/plain": [
       "<Figure size 1400x700 with 1 Axes>"
      ]
     },
     "metadata": {},
     "output_type": "display_data"
    }
   ],
   "source": [
    "plt.figure(figsize=(14,7))\n",
    "plt.imshow(trainX[1, 0], cmap='gray')\n",
    "plt.show()"
   ]
  },
  {
   "cell_type": "code",
   "execution_count": 35,
   "id": "c75148a5",
   "metadata": {},
   "outputs": [],
   "source": [
    "# Створюємо клас\n",
    "class Classification(nn.Module):\n",
    "    def __init__(self, input_size, hidden_size, num_classes):\n",
    "        super().__init__() \n",
    "        self.layer1 = nn.Linear(inputSize, hidden_size) \n",
    "        self.relu = nn.ReLU()\n",
    "        self.layer2 = nn.Linear(hidden_size, hidden_size) \n",
    "        self.sigmoid = nn.Sigmoid()\n",
    "        self.layer3 = nn.Linear(hidden_size, num_classes)\n",
    "        self.softmax = nn.Softmax(dim=1) \n",
    "\n",
    "    def forward(self, x): \n",
    "        out = self.layer1(x)  \n",
    "        out = self.relu(out)\n",
    "        out = self.layer2(out)  \n",
    "        out = self.sigmoid(out)\n",
    "        out = self.layer3(out) \n",
    "        out = self.softmax(out) \n",
    "        return out\n",
    "\n",
    "model = Classification(inputSize, hidden, numClasses) "
   ]
  },
  {
   "cell_type": "code",
   "execution_count": 36,
   "id": "92471b06",
   "metadata": {},
   "outputs": [
    {
     "data": {
      "text/plain": [
       "Classification(\n",
       "  (layer1): Linear(in_features=784, out_features=500, bias=True)\n",
       "  (relu): ReLU()\n",
       "  (layer2): Linear(in_features=500, out_features=500, bias=True)\n",
       "  (sigmoid): Sigmoid()\n",
       "  (layer3): Linear(in_features=500, out_features=10, bias=True)\n",
       "  (softmax): Softmax(dim=1)\n",
       ")"
      ]
     },
     "execution_count": 36,
     "metadata": {},
     "output_type": "execute_result"
    }
   ],
   "source": [
    "criterion = nn.CrossEntropyLoss() \n",
    "optimizer = torch.optim.SGD(model.parameters(), lr=learningRate) \n",
    "losses = []\n",
    "model.train() "
   ]
  },
  {
   "cell_type": "code",
   "execution_count": 37,
   "id": "03a463b0",
   "metadata": {},
   "outputs": [
    {
     "name": "stderr",
     "output_type": "stream",
     "text": [
      "C:\\Users\\HEWLLET\\AppData\\Roaming\\Python\\Python39\\site-packages\\torch\\autograd\\__init__.py:200: UserWarning: CUDA initialization: The NVIDIA driver on your system is too old (found version 5000). Please update your GPU driver by downloading and installing a new version from the URL: http://www.nvidia.com/Download/index.aspx Alternatively, go to: https://pytorch.org to install a PyTorch version that has been compiled with your version of the CUDA driver. (Triggered internally at C:\\actions-runner\\_work\\pytorch\\pytorch\\builder\\windows\\pytorch\\c10\\cuda\\CUDAFunctions.cpp:109.)\n",
      "  Variable._execution_engine.run_backward(  # Calls into the C++ engine to run the backward pass\n"
     ]
    },
    {
     "name": "stdout",
     "output_type": "stream",
     "text": [
      "Епоха: [1/10], Похибка: 2.3000\n",
      "Епоха: [2/10], Похибка: 2.2969\n",
      "Епоха: [3/10], Похибка: 2.2868\n",
      "Епоха: [4/10], Похибка: 2.2843\n",
      "Епоха: [5/10], Похибка: 2.2745\n",
      "Епоха: [6/10], Похибка: 2.2783\n",
      "Епоха: [7/10], Похибка: 2.2783\n",
      "Епоха: [8/10], Похибка: 2.2492\n",
      "Епоха: [9/10], Похибка: 2.2539\n",
      "Епоха: [10/10], Похибка: 2.2456\n"
     ]
    },
    {
     "data": {
      "image/png": "[encoded data removed]",
      "text/plain": [
       "<Figure size 1400x700 with 1 Axes>"
      ]
     },
     "metadata": {},
     "output_type": "display_data"
    }
   ],
   "source": [
    "for epoch in range(numEpochs): \n",
    "    lossTot = 0 \n",
    "\n",
    "    for i, (images, labels) in enumerate(trainLoader): \n",
    "        images = images.view(-1, 28*28) \n",
    "        optimizer.zero_grad() \n",
    "        outputs = model(images) # тут наше передбачення\n",
    "        loss = criterion(outputs.log(), labels) # рахуємо похибку \n",
    "        loss.backward()  # зворотне поширення. \n",
    "                         # x.grad += dloss/dx для всіх параметрів x\n",
    "\n",
    "        lossTot +=loss.detach().data # інкремент помилки\n",
    "        \n",
    "        optimizer.step() # наступний крок спуску\n",
    "\n",
    "    losses.append(lossTot/len(trainDataset)) # обчислюємо середню помилку та додаємо до списку\n",
    "    print('Епоха: [%d/%d], Похибка: %.4f' \n",
    "           % (epoch+1, numEpochs, loss))\n",
    "plt.figure(figsize=(14,7))\n",
    "plt.plot(losses) # Графік нашого навчання\n",
    "plt.show()"
   ]
  },
  {
   "cell_type": "code",
   "execution_count": 38,
   "id": "1c7abea5",
   "metadata": {},
   "outputs": [
    {
     "data": {
      "image/png": "[encoded data removed]",
      "text/plain": [
       "<Figure size 1400x700 with 1 Axes>"
      ]
     },
     "metadata": {},
     "output_type": "display_data"
    },
    {
     "name": "stdout",
     "output_type": "stream",
     "text": [
      "Правильна відповідь tensor(4)\n"
     ]
    }
   ],
   "source": [
    "plt.figure(figsize=(14,7))\n",
    "plt.imshow(trainX[16, 0], cmap='gray')\n",
    "plt.show()\n",
    "print('Правильна відповідь', trainY[9])"
   ]
  },
  {
   "cell_type": "code",
   "execution_count": 39,
   "id": "2d73faea",
   "metadata": {},
   "outputs": [
    {
     "name": "stdout",
     "output_type": "stream",
     "text": [
      "tensor([[0.0982, 0.1083, 0.1005, 0.0980, 0.0974, 0.0889, 0.1037, 0.1075, 0.0952,\n",
      "         0.1023]])\n",
      "torch.return_types.max(\n",
      "values=tensor([0.1083]),\n",
      "indices=tensor([1]))\n"
     ]
    }
   ],
   "source": [
    "x = model(trainX[9].view(-1, 784)).detach()\n",
    "print(x.data)\n",
    "print(torch.max(x.data,dim=1)) "
   ]
  },
  {
   "cell_type": "code",
   "execution_count": 40,
   "id": "d7033559",
   "metadata": {},
   "outputs": [
    {
     "name": "stdout",
     "output_type": "stream",
     "text": [
      "Точність для 10000 картинок: 29 %\n"
     ]
    }
   ],
   "source": [
    "correct = 0\n",
    "total = 0\n",
    "\n",
    "model.eval() \n",
    "\n",
    "for images, labels in testLoader: \n",
    "    images = images.view(-1, 28*28) \n",
    "    result = labels\n",
    "    outputs = model(images) \n",
    "    _, predicted = torch.max(outputs.data, 1) \n",
    "    total += labels.size(0) \n",
    "    correct += (predicted == labels).sum() \n",
    "    \n",
    "print('Точність для 10000 картинок: %d %%' % (100 * correct // total))"
   ]
  },
  {
   "cell_type": "code",
   "execution_count": 41,
   "id": "ae3a4220",
   "metadata": {},
   "outputs": [
    {
     "name": "stdout",
     "output_type": "stream",
     "text": [
      "tensor([0.0989, 0.1152, 0.0986, 0.0987, 0.0935, 0.0901, 0.1011, 0.1042, 0.1006,\n",
      "        0.0991], grad_fn=<SelectBackward0>) torch.return_types.max(\n",
      "values=tensor([0.1152, 0.1091, 0.1106, 0.1193, 0.1120, 0.1133, 0.1135, 0.1188, 0.1128,\n",
      "        0.1156, 0.1199, 0.1142, 0.1203, 0.1086, 0.1129, 0.1131, 0.1134, 0.1144,\n",
      "        0.1089, 0.1159, 0.1128, 0.1091, 0.1146, 0.1220, 0.1099, 0.1125, 0.1169,\n",
      "        0.1102, 0.1112, 0.1160, 0.1117, 0.1252, 0.1109, 0.1066, 0.1147, 0.1167,\n",
      "        0.1111, 0.1075, 0.1135, 0.1133, 0.1089, 0.1104, 0.1086, 0.1065, 0.1074,\n",
      "        0.1106, 0.1248, 0.1079, 0.1105, 0.1069, 0.1232, 0.1086, 0.1161, 0.1095,\n",
      "        0.1091, 0.1196, 0.1218, 0.1160, 0.1153, 0.1172, 0.1109, 0.1122, 0.1101,\n",
      "        0.1153, 0.1118, 0.1152, 0.1090, 0.1158, 0.1146, 0.1233, 0.1159, 0.1128,\n",
      "        0.1092, 0.1113, 0.1123, 0.1137, 0.1173, 0.1125, 0.1196, 0.1168, 0.1091,\n",
      "        0.1169, 0.1151, 0.1217, 0.1254, 0.1099, 0.1108, 0.1100, 0.1096, 0.1097,\n",
      "        0.1147, 0.1066, 0.1097, 0.1198, 0.1268, 0.1085, 0.1099, 0.1100, 0.1155,\n",
      "        0.1105]),\n",
      "indices=tensor([1, 7, 1, 1, 1, 1, 1, 1, 1, 7, 1, 0, 1, 1, 1, 1, 7, 1, 7, 7, 1, 1, 1, 1,\n",
      "        1, 1, 1, 1, 1, 7, 0, 1, 7, 1, 1, 7, 1, 1, 1, 0, 1, 1, 1, 7, 7, 7, 1, 7,\n",
      "        0, 0, 1, 0, 0, 1, 0, 1, 1, 7, 1, 1, 7, 1, 0, 7, 0, 1, 1, 1, 7, 1, 1, 1,\n",
      "        1, 7, 1, 1, 1, 1, 1, 7, 0, 1, 1, 0, 1, 1, 1, 7, 1, 1, 7, 8, 7, 0, 1, 1,\n",
      "        1, 7, 1, 0]))\n",
      "tensor([8, 9, 0, 1, 2, 3, 4, 5, 6, 7, 8, 0, 1, 2, 3, 4, 7, 8, 9, 7, 8, 6, 4, 1,\n",
      "        9, 3, 8, 4, 4, 7, 0, 1, 9, 2, 8, 7, 8, 2, 6, 0, 6, 5, 3, 3, 3, 9, 1, 4,\n",
      "        0, 6, 1, 0, 0, 6, 2, 1, 1, 7, 7, 8, 4, 6, 0, 7, 0, 3, 6, 8, 7, 1, 5, 2,\n",
      "        4, 9, 4, 3, 6, 4, 1, 7, 2, 6, 5, 0, 1, 2, 3, 4, 5, 6, 7, 8, 9, 0, 1, 2,\n",
      "        3, 4, 5, 6])\n"
     ]
    }
   ],
   "source": [
    "print(outputs[0], torch.max(outputs.data, 1))\n",
    "print(result)"
   ]
  },
  {
   "cell_type": "code",
   "execution_count": 44,
   "id": "2c6df6d3",
   "metadata": {},
   "outputs": [],
   "source": [
    "import torchviz"
   ]
  },
  {
   "cell_type": "code",
   "execution_count": 45,
   "id": "19ba7c0f",
   "metadata": {},
   "outputs": [
    {
     "data": {
      "text/plain": [
       "<generator object Module.named_parameters at 0x0000005FE566A3C0>"
      ]
     },
     "execution_count": 45,
     "metadata": {},
     "output_type": "execute_result"
    }
   ],
   "source": [
    "model.named_parameters()"
   ]
  },
  {
   "cell_type": "code",
   "execution_count": null,
   "id": "ab861d77",
   "metadata": {},
   "outputs": [],
   "source": [
    "torchviz.make_dot(model(images), params=dict(model.named_parameters()))"
   ]
  }
 ],
 "metadata": {
  "kernelspec": {
   "display_name": "local-venv",
   "language": "python",
   "name": "local-venv"
  },
  "language_info": {
   "codemirror_mode": {
    "name": "ipython",
    "version": 3
   },
   "file_extension": ".py",
   "mimetype": "text/x-python",
   "name": "python",
   "nbconvert_exporter": "python",
   "pygments_lexer": "ipython3",
   "version": "3.9.12"
  }
 },
 "nbformat": 4,
 "nbformat_minor": 5
}
