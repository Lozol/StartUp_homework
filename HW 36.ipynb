{
 "cells": [
  {
   "cell_type": "markdown",
   "id": "0192e89f",
   "metadata": {},
   "source": [
    "## Task 1"
   ]
  },
  {
   "cell_type": "markdown",
   "id": "156c621b",
   "metadata": {},
   "source": [
    "Проведіть крос-валідацію для моделі, побудованної на основі датафрейму student_scores з попереднього завдання. Обгрунтуйте обраний метод крос-валідації."
   ]
  },
  {
   "cell_type": "code",
   "execution_count": 1,
   "id": "5703a24c",
   "metadata": {},
   "outputs": [],
   "source": [
    "import pandas as pd\n",
    "import numpy as np\n",
    "\n",
    "from sklearn.preprocessing import scale\n",
    "\n",
    "from sklearn.model_selection import KFold, StratifiedKFold, cross_val_score\n",
    "from sklearn import linear_model, tree, ensemble"
   ]
  },
  {
   "cell_type": "code",
   "execution_count": 11,
   "id": "39fde4ba",
   "metadata": {},
   "outputs": [
    {
     "data": {
      "text/html": [
       "<div>\n",
       "<style scoped>\n",
       "    .dataframe tbody tr th:only-of-type {\n",
       "        vertical-align: middle;\n",
       "    }\n",
       "\n",
       "    .dataframe tbody tr th {\n",
       "        vertical-align: top;\n",
       "    }\n",
       "\n",
       "    .dataframe thead th {\n",
       "        text-align: right;\n",
       "    }\n",
       "</style>\n",
       "<table border=\"1\" class=\"dataframe\">\n",
       "  <thead>\n",
       "    <tr style=\"text-align: right;\">\n",
       "      <th></th>\n",
       "      <th>Hours</th>\n",
       "      <th>Scores</th>\n",
       "    </tr>\n",
       "  </thead>\n",
       "  <tbody>\n",
       "    <tr>\n",
       "      <th>0</th>\n",
       "      <td>2.5</td>\n",
       "      <td>21</td>\n",
       "    </tr>\n",
       "    <tr>\n",
       "      <th>1</th>\n",
       "      <td>5.1</td>\n",
       "      <td>47</td>\n",
       "    </tr>\n",
       "    <tr>\n",
       "      <th>2</th>\n",
       "      <td>3.2</td>\n",
       "      <td>27</td>\n",
       "    </tr>\n",
       "  </tbody>\n",
       "</table>\n",
       "</div>"
      ],
      "text/plain": [
       "   Hours  Scores\n",
       "0    2.5      21\n",
       "1    5.1      47\n",
       "2    3.2      27"
      ]
     },
     "execution_count": 11,
     "metadata": {},
     "output_type": "execute_result"
    }
   ],
   "source": [
    "df = pd.read_csv('student_scores.csv')\n",
    "df[:3]"
   ]
  },
  {
   "cell_type": "code",
   "execution_count": 5,
   "id": "66bb1240",
   "metadata": {},
   "outputs": [],
   "source": [
    "X = np.array(df['Hours']).reshape(-1, 1)\n",
    "y = np.array(df['Scores'])"
   ]
  },
  {
   "cell_type": "markdown",
   "id": "cf869573",
   "metadata": {},
   "source": [
    "Вибрали крос валідацію методом k-Fold тому що данніх мало і вона надійніша в даному разі від перехресної. Інші не підходять по задачі. Наприклад Stratified k-Fold бо задача не класифікувати і классів мало. Потокову не можемо бо дані не змінюються. Монте-Карло не можемо бо даних дуже мало."
   ]
  },
  {
   "cell_type": "code",
   "execution_count": 20,
   "id": "898616f8",
   "metadata": {},
   "outputs": [
    {
     "name": "stdout",
     "output_type": "stream",
     "text": [
      "Cross validation scores:  [-0.22573437  0.62535306 -0.08289785 -0.16796305  0.30273973]\n",
      "Average CV scores:  0.0902995024068776\n",
      "Number of CV scores used in Average:  5\n"
     ]
    }
   ],
   "source": [
    "lin = linear_model.LinearRegression()\n",
    "k_folds = KFold(n_splits=5,)\n",
    "scores = cross_val_score(lin, X,y, cv=k_folds)\n",
    "print(\"Cross validation scores: \",scores)\n",
    "print(\"Average CV scores: \",scores.mean())\n",
    "print(\"Number of CV scores used in Average: \", len(scores))"
   ]
  },
  {
   "cell_type": "markdown",
   "id": "18f1c527",
   "metadata": {},
   "source": [
    "## Task 2"
   ]
  },
  {
   "cell_type": "markdown",
   "id": "d4991dfd",
   "metadata": {},
   "source": [
    "Проведіть крос-валідацію для моделі, побудованної на основі датафрейму petrol_consumption з попереднього завдання. Обгрунтуйтк обраний метод крос-валідації. "
   ]
  },
  {
   "cell_type": "code",
   "execution_count": 21,
   "id": "d6d913d8",
   "metadata": {},
   "outputs": [
    {
     "data": {
      "text/html": [
       "<div>\n",
       "<style scoped>\n",
       "    .dataframe tbody tr th:only-of-type {\n",
       "        vertical-align: middle;\n",
       "    }\n",
       "\n",
       "    .dataframe tbody tr th {\n",
       "        vertical-align: top;\n",
       "    }\n",
       "\n",
       "    .dataframe thead th {\n",
       "        text-align: right;\n",
       "    }\n",
       "</style>\n",
       "<table border=\"1\" class=\"dataframe\">\n",
       "  <thead>\n",
       "    <tr style=\"text-align: right;\">\n",
       "      <th></th>\n",
       "      <th>petrol_tax</th>\n",
       "      <th>average_income</th>\n",
       "      <th>paved_highways</th>\n",
       "      <th>population_driver_licence</th>\n",
       "      <th>petrol_consumption</th>\n",
       "    </tr>\n",
       "  </thead>\n",
       "  <tbody>\n",
       "    <tr>\n",
       "      <th>0</th>\n",
       "      <td>9.0</td>\n",
       "      <td>3571</td>\n",
       "      <td>1976</td>\n",
       "      <td>0.525</td>\n",
       "      <td>541</td>\n",
       "    </tr>\n",
       "    <tr>\n",
       "      <th>1</th>\n",
       "      <td>9.0</td>\n",
       "      <td>4092</td>\n",
       "      <td>1250</td>\n",
       "      <td>0.572</td>\n",
       "      <td>524</td>\n",
       "    </tr>\n",
       "    <tr>\n",
       "      <th>2</th>\n",
       "      <td>9.0</td>\n",
       "      <td>3865</td>\n",
       "      <td>1586</td>\n",
       "      <td>0.580</td>\n",
       "      <td>561</td>\n",
       "    </tr>\n",
       "    <tr>\n",
       "      <th>3</th>\n",
       "      <td>7.5</td>\n",
       "      <td>4870</td>\n",
       "      <td>2351</td>\n",
       "      <td>0.529</td>\n",
       "      <td>414</td>\n",
       "    </tr>\n",
       "    <tr>\n",
       "      <th>4</th>\n",
       "      <td>8.0</td>\n",
       "      <td>4399</td>\n",
       "      <td>431</td>\n",
       "      <td>0.544</td>\n",
       "      <td>410</td>\n",
       "    </tr>\n",
       "  </tbody>\n",
       "</table>\n",
       "</div>"
      ],
      "text/plain": [
       "   petrol_tax  average_income  paved_highways  population_driver_licence  \\\n",
       "0         9.0            3571            1976                      0.525   \n",
       "1         9.0            4092            1250                      0.572   \n",
       "2         9.0            3865            1586                      0.580   \n",
       "3         7.5            4870            2351                      0.529   \n",
       "4         8.0            4399             431                      0.544   \n",
       "\n",
       "   petrol_consumption  \n",
       "0                 541  \n",
       "1                 524  \n",
       "2                 561  \n",
       "3                 414  \n",
       "4                 410  "
      ]
     },
     "execution_count": 21,
     "metadata": {},
     "output_type": "execute_result"
    }
   ],
   "source": [
    "df_petrol = pd.read_csv('petrol_consumption.csv',delimiter=',', header=None, skiprows=1, names=['petrol_tax','average_income','paved_highways','population_driver_licence','petrol_consumption'])\n",
    "df_petrol.head()"
   ]
  },
  {
   "cell_type": "code",
   "execution_count": 22,
   "id": "a59642a8",
   "metadata": {},
   "outputs": [],
   "source": [
    "df_petrol_data = df_petrol[['petrol_tax','average_income','paved_highways','population_driver_licence']].values\n",
    "df_petrol_target = df_petrol[['petrol_consumption']].values\n",
    "\n",
    "df_petrol_data_names = ['petrol_tax','average_income','paved_highways','population_driver_licence']\n",
    "\n",
    "X,y = scale(df_petrol_data),df_petrol_target"
   ]
  },
  {
   "cell_type": "code",
   "execution_count": 23,
   "id": "045d961a",
   "metadata": {},
   "outputs": [
    {
     "name": "stdout",
     "output_type": "stream",
     "text": [
      "Cross validation scores:  [-0.22573437  0.62535306 -0.08289785 -0.16796305  0.30273973]\n",
      "Average CV scores:  0.0902995024068776\n",
      "Number of CV scores used in Average:  5\n"
     ]
    }
   ],
   "source": [
    "lin = linear_model.LinearRegression()\n",
    "k_folds = KFold(n_splits=5,)\n",
    "scores = cross_val_score(lin, X,y, cv=k_folds)\n",
    "print(\"Cross validation scores: \",scores)\n",
    "print(\"Average CV scores: \",scores.mean())\n",
    "print(\"Number of CV scores used in Average: \", len(scores))"
   ]
  },
  {
   "cell_type": "markdown",
   "id": "52139275",
   "metadata": {},
   "source": [
    "Вибрали крос валідацію методом k-Fold тому що теж данніх мало і вона надійніша в даному разі від перехресної. Інші не підходять по задачі. Наприклад Stratified k-Fold бо помилка що классів багатоі вони не можуть бути представленні в частинах при поділу. Потокову не можемо бо дані не змінюються. Монте-Карло не можемо бо даних дуже мало і багато ресурсів займає."
   ]
  },
  {
   "cell_type": "code",
   "execution_count": null,
   "id": "8c8a3785",
   "metadata": {},
   "outputs": [],
   "source": []
  }
 ],
 "metadata": {
  "kernelspec": {
   "display_name": "Python 3 (ipykernel)",
   "language": "python",
   "name": "python3"
  },
  "language_info": {
   "codemirror_mode": {
    "name": "ipython",
    "version": 3
   },
   "file_extension": ".py",
   "mimetype": "text/x-python",
   "name": "python",
   "nbconvert_exporter": "python",
   "pygments_lexer": "ipython3",
   "version": "3.9.13"
  }
 },
 "nbformat": 4,
 "nbformat_minor": 5
}
