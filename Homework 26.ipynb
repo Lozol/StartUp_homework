{
 "cells": [
  {
   "cell_type": "markdown",
   "id": "3fe1f821",
   "metadata": {},
   "source": [
    "### Task1"
   ]
  },
  {
   "cell_type": "markdown",
   "id": "31b31422",
   "metadata": {},
   "source": [
    "Ймовірність того, що телевізор витримає гарантійний термін роботи дорівнює 0,9 для всіх телевізлорів, які обслуговує гарантійна майстерня. Оцінити ймовірність того, що число телевізорів які витримають гарантійний термін роботи буде в межах (85,95)."
   ]
  },
  {
   "cell_type": "markdown",
   "id": "2883b578",
   "metadata": {},
   "source": [
    "Застосовуємо нерівність Чебишева\n",
    "85<=x<=95 M(x)=90 \n",
    "|x-a|=5\n",
    "D(x)=npq=9\n",
    "ймовірність що відклониться p>=D(x)/|x-a|**2>=100*0,9*0,1/25>=0.36\n",
    "Відповідь p>=0.36"
   ]
  },
  {
   "cell_type": "markdown",
   "id": "39117473",
   "metadata": {},
   "source": [
    "### Task2"
   ]
  },
  {
   "cell_type": "markdown",
   "id": "fdf5bea3",
   "metadata": {},
   "source": [
    "При вивчені випадкової величини Х у результаті 40 незалежних спостережень дістали вибірку: 10,13,10,9,9,12,12,6,7,9,8,9,11,9,14,13,9,8,8,7,10,10,11,11,11,12,8,7,9,10,14,13,8,8,9,10,11,11,12,12. Побудувати дискретний статичний розподіл для цієї вибірки, а також полігон частот F*(x). Знайти моду та медіану."
   ]
  },
  {
   "cell_type": "markdown",
   "id": "57b4eed8",
   "metadata": {},
   "source": [
    "|  6|  7|  8|  9| 10| 11| 12| 13| 14|\n",
    "|---|---|---|---|---|---|---|---|---|\n",
    "|0.025|0.075|0.15|0.2|0.15|0.15|0.125|0.075|0.05|"
   ]
  },
  {
   "cell_type": "code",
   "execution_count": 15,
   "id": "87a82a3d",
   "metadata": {},
   "outputs": [
    {
     "data": {
      "text/plain": [
       "(array([1., 3., 6., 8., 0., 6., 6., 5., 3., 2.]),\n",
       " array([ 6. ,  6.8,  7.6,  8.4,  9.2, 10. , 10.8, 11.6, 12.4, 13.2, 14. ]),\n",
       " <BarContainer object of 10 artists>)"
      ]
     },
     "execution_count": 15,
     "metadata": {},
     "output_type": "execute_result"
    },
    {
     "data": {
      "image/png": "[encoded data removed]",
      "text/plain": [
       "<Figure size 640x480 with 1 Axes>"
      ]
     },
     "metadata": {},
     "output_type": "display_data"
    }
   ],
   "source": [
    "import matplotlib.pyplot as plt\n",
    "a=[10, 13, 10, 9,9,12,12,6,7,9,8,9,11,9,14,13,9,8,8,7, 10, 10,11,11,11,12,8,7,9, 10,14,13,8,8,9,10,11,11,12,12]\n",
    "plt.hist(a)\n",
    "\n",
    "\n"
   ]
  },
  {
   "cell_type": "code",
   "execution_count": 20,
   "id": "3562a6ac",
   "metadata": {},
   "outputs": [
    {
     "name": "stdout",
     "output_type": "stream",
     "text": [
      "Медіана: 10.0\n"
     ]
    }
   ],
   "source": [
    "import numpy as np\n",
    "median_1 = np.median(a)\n",
    "print(f'Медіана: {median_1}')"
   ]
  },
  {
   "cell_type": "code",
   "execution_count": 21,
   "id": "642d1e33",
   "metadata": {},
   "outputs": [
    {
     "name": "stdout",
     "output_type": "stream",
     "text": [
      "Вычисление моды: 9\n"
     ]
    }
   ],
   "source": [
    "mode_1 = max((a.count(item), item) for item in set(a))[1]\n",
    "print(f'Вычисление моды: {mode_1}')"
   ]
  },
  {
   "cell_type": "code",
   "execution_count": null,
   "id": "2d3959ca",
   "metadata": {},
   "outputs": [],
   "source": []
  }
 ],
 "metadata": {
  "kernelspec": {
   "display_name": "Python 3 (ipykernel)",
   "language": "python",
   "name": "python3"
  },
  "language_info": {
   "codemirror_mode": {
    "name": "ipython",
    "version": 3
   },
   "file_extension": ".py",
   "mimetype": "text/x-python",
   "name": "python",
   "nbconvert_exporter": "python",
   "pygments_lexer": "ipython3",
   "version": "3.9.13"
  }
 },
 "nbformat": 4,
 "nbformat_minor": 5
}
